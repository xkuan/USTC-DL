{
 "cells": [
  {
   "cell_type": "markdown",
   "id": "6251d391",
   "metadata": {},
   "source": [
    "# 作业2 分类方法"
   ]
  },
  {
   "cell_type": "markdown",
   "id": "1bc8ee70",
   "metadata": {},
   "source": [
    "SA21229033 徐宽 数据科学"
   ]
  },
  {
   "cell_type": "markdown",
   "id": "ada52409",
   "metadata": {},
   "source": [
    "## 1. 决策树（是否出去玩）\n",
    "如下表数据，前四列是天气情况（阴晴 outlook，气温 temperature，湿度 humidity，风windy）；最后一列是类标签，表示根据天气情况是否出去玩。\n",
    "\n",
    "(1)  “信息熵”是度量样本集合纯度最常用的一种指标，假定当前样本集合 D 中第 k 类样本所占的比例为 $𝑝_𝑘（k=1, 2, …, K）$ ,请问当什么条件下， D 的信息熵 $Ent(D)$取得最大，最大值为多少？  \n",
    "(2) 根据表中训练数据，基于信息增益决策树应该选哪个属性作为第一个分类属性？  \n",
    "(3) 对于含有连续型属性的样本数据，决策树和朴素贝叶斯分类能有哪些处理方法？  \n",
    "(4) 在分类算法的评价指标中， recall 和 precision 分别是什么含义？  \n",
    "(5) 若一批数据中有 3 个属性特征， 2 个类标记，则最多可能有多少种不同的决策树？  \n",
    "（不同决策树指同一个样本在两个两个决策下可能得到不同的类标记）  \n",
    "\n",
    "| outlook  | temperature | humidity | windy | play |\n",
    "| -------- | ----------- | -------- | ----- | ---- |\n",
    "| sunny    | hot         | high     | FALSE | no   |\n",
    "| sunny    | hot         | high     | TRUE  | no   |\n",
    "| rainy    | cool        | normal   | TRUE  | no   |\n",
    "| sunny    | mild        | high     | FALSE | no   |\n",
    "| sunny    | cool        | normal   | FALSE | yes  |\n",
    "| rainy    | mild        | normal   | FALSE | yes  |\n",
    "| overcast | cool        | normal   | TRUE  | yes  |\n",
    "| rainy    | cool        | normal   | FALSE | yes  |\n",
    "| rainy    | mild        | high     | FALSE | yes  |\n",
    "| overcast | hot         | high     | FALSE | yes  |"
   ]
  },
  {
   "cell_type": "markdown",
   "id": "12ff7dff",
   "metadata": {},
   "source": [
    "**答案**  \n",
    "(1) ${\\rm Ent}(D) = -\\sum_{k=1}^K p_k\\log_2p_k$, 其中 $0<p_k<1,\\ \\sum_{k=1}^K p_k=1;$  \n",
    "构造拉格朗日函数:  \n",
    "$$L(D,\\lambda) = -\\sum_{k=1}^K p_k\\log_2p_k + \\lambda(\\sum_{k=1}^K p_k-1);$$  \n",
    "分别对 $p_k$ 求偏导，令 \n",
    "$$\\frac{\\partial L}{\\partial p_k} = \\frac{-1-\\log p_k}{\\log2}+\\lambda = 0,$$ 得：  \n",
    "$$\\log p_k = \\lambda\\log2-1 (k=1,2,\\ldots,K)$$\n",
    "于是求得稳定点 $(\\frac 1K,\\frac 1K,\\ldots,\\frac 1K)^T;$  \n",
    "容易求得函数在该点的Hessian矩阵为 $-\\frac K{\\log2}I_K,$ 显然是负定的，所以上述稳定点即为最大值点（凸性显然）。最大值为 $\\log_2K$"
   ]
  },
  {
   "cell_type": "markdown",
   "id": "d08528ac",
   "metadata": {},
   "source": [
    "(2) 这道题手算的话估计要手酸了，还是编程计算吧！代码如下："
   ]
  },
  {
   "cell_type": "code",
   "execution_count": 1,
   "id": "f0d3603e",
   "metadata": {
    "ExecuteTime": {
     "end_time": "2021-10-04T12:44:51.357328Z",
     "start_time": "2021-10-04T12:44:51.058004Z"
    },
    "code_folding": []
   },
   "outputs": [
    {
     "name": "stdout",
     "output_type": "stream",
     "text": [
      "0.9709505944546686\n",
      "0.3219280948873623\n",
      "0.09546184423832171\n",
      "0.12451124978365313\n",
      "0.0912774462416801\n"
     ]
    }
   ],
   "source": [
    "import numpy as np\n",
    "import pandas as pd\n",
    "\n",
    "# 计算信息熵\n",
    "def ent(data):\n",
    "    prob = pd.value_counts(data)/len(data)\n",
    "    entropy = sum(np.log2(prob)*prob*(-1))\n",
    "    return entropy\n",
    "\n",
    "# 计算信息增益\n",
    "def get_info_gain(data, feat, label):\n",
    "    e1 = data.groupby(feat).apply(lambda x:ent(x[label]))\n",
    "    p1 = pd.value_counts(data[feat])/len(data[feat])\n",
    "    e2 = sum(e1*p1)\n",
    "    return ent(data[label]) - e2\n",
    "\n",
    "data = pd.DataFrame({'outlook':['sunny','sunny','rainy','sunny','sunny','rainy','overcast','rainy','rainy','overcast'],\n",
    "                     'temperature':['hot','hot','cool','mild','cool','mild','cool','cool','mild','hot'],\n",
    "                     'humidity':['high','high','normal','high','normal','normal','normal','normal','high','high'],\n",
    "                     'windy':['FALSE','TRUE','TRUE','FALSE','FALSE','FALSE','TRUE','FALSE','FALSE','FALSE'],\n",
    "                     'play':['no','no','no','no','yes','yes','yes','yes','yes','yes']})\n",
    "print(ent(data['play']))\n",
    "label = 'play'\n",
    "for feat in ['outlook','temperature','humidity','windy']:\n",
    "    print(get_info_gain(data, feat, label))\n"
   ]
  },
  {
   "cell_type": "markdown",
   "id": "db0b02d5",
   "metadata": {},
   "source": [
    "由上面程序返回的每个特征的信息增益值，可以看到最大的是第一个特征\"outlook\"，所以应该选择它作为第一个分类属性。"
   ]
  },
  {
   "cell_type": "markdown",
   "id": "4f57b502",
   "metadata": {},
   "source": [
    "(3) 对于含有连续型属性的样本数据，决策树和朴素贝叶斯分类能有哪些处理方法？  \n",
    "可以将连续数据离散化。具体有如下两类：  \n",
    "* 无监督离散化：等距离散化，等频离散化，聚类离散化\n",
    "* 有监督离散化：信息增益离散化，ChiMerge离散化等  \n",
    "\n",
    "(4) 在分类算法的评价指标中， recall 和 precision 分别是什么含义？  \n",
    "* recall 表示召回率，也叫查全率，体现“有多少真正的正例被查出来”。比如在流失用户预测问题中，如果我们希望算法尽量多地把流失用户找出来，就要保证较高的召回率；  \n",
    "* precision 表示准确率，也叫查准率，体现“查出来的正例有多少是真正的正例”。同样考虑流失用户预测问题，如果我们要对预测出来的流失用户进行拉活，为了控制成本，把“好钢用在刀刃上”，就要保证较高的准确率。  \n",
    "\n",
    "(5) 若一批数据中有 3 个属性特征， 2 个类标记，则最多可能有多少种不同的决策树？  \n",
    "（不同决策树指同一个样本在两个决策下可能得到不同的类标记）  \n",
    "* 属性1对应3个分支：类0，类1，属性2；\n",
    "* 属性2对应3个分支：类0，类1，属性3；\n",
    "* 属性3对应2个分支：类0，类1.  \n",
    "所以最多有 $(3!)\\times (3!)\\times (2!) = 72$种不同的决策树。"
   ]
  },
  {
   "cell_type": "markdown",
   "id": "03b75cff",
   "metadata": {},
   "source": [
    "## 2. 支持向量机\n",
    "已知正例点$x_1=(2,3)^T, x_2=(3,2)^T$，负例点$x_3=(1,1)^T$  \n",
    "(1) 使用SVM对其进行分类，求最大间隔分离超平面，并指出所有的支持向量。  \n",
    "(2) 现额外有一个点能被SVM正确分类且远离决策边界，如果将该点加入到训练集，SVM的决策边界会受影响吗？为什么？"
   ]
  },
  {
   "cell_type": "code",
   "execution_count": 2,
   "id": "23803ccc",
   "metadata": {
    "ExecuteTime": {
     "end_time": "2021-10-04T12:44:52.599011Z",
     "start_time": "2021-10-04T12:44:51.358326Z"
    }
   },
   "outputs": [
    {
     "name": "stdout",
     "output_type": "stream",
     "text": [
      "predict_result:\n",
      " [1 1 0]\n"
     ]
    },
    {
     "data": {
      "image/png": "[encoded data removed]",
      "text/plain": [
       "<Figure size 360x360 with 1 Axes>"
      ]
     },
     "metadata": {
      "needs_background": "light"
     },
     "output_type": "display_data"
    }
   ],
   "source": [
    "from sklearn import svm\n",
    "import matplotlib.pyplot as plt\n",
    "\n",
    "data = np.array([[2,3], [3,2], [1,1] ])\n",
    "label = [1, 1, 0]\n",
    "plt.figure(figsize=(5,5))\n",
    "plt.scatter(data[:,0], data[:,1], c=label, s=100)\n",
    "\n",
    "classifier = svm.SVC(kernel='linear') \n",
    "classifier.fit(data, label)\n",
    "print('predict_result:\\n',classifier.predict(data))\n",
    "w, b = classifier.coef_, classifier.intercept_\n",
    "x = np.linspace(0.5, 3.5)\n",
    "y = -b/w[0,1] - w[0,0]*x/w[0,1]\n",
    "plt.plot(x, y, 'r-')\n",
    "plt.plot(x, y+1.5, 'b-')\n",
    "plt.plot(x, y-1.5, 'b-')\n",
    "\n",
    "plt.xlim(0.5,3.5)\n",
    "plt.ylim(0.5,3.5)\n",
    "plt.show()"
   ]
  },
  {
   "cell_type": "markdown",
   "id": "4a5c4c19",
   "metadata": {
    "ExecuteTime": {
     "end_time": "2021-10-01T12:16:26.080680Z",
     "start_time": "2021-10-01T12:16:26.067677Z"
    }
   },
   "source": [
    "(1) 上图中的红线即为分类超平面，很显然这3个点全都是支持向量。  \n",
    "(2) 如果额外加的点能够被分类正确，且远离决策边界，即其定然不是支持向量，所以不会对决策边界产生任何影响，因为决策边界只由支持向量所决定。"
   ]
  },
  {
   "cell_type": "markdown",
   "id": "afa59d07",
   "metadata": {},
   "source": [
    "## 3. 决策树（是否进行放贷）\n",
    "下表是一个由 15 个贷款申请训练数据，数据包括贷款申请人的四个特征属性：分别是年龄，是否有工作，是否有自己的房子以及信贷情况，表的最后一列为类别，是否同意贷款。  \n",
    "\n",
    "| ID   | 年龄 | 有工作 | 有自己的房子 | 信贷情况 | 类别 |\n",
    "| ---- | ---- | ------ | ------------ | -------- | ---- |\n",
    "| 1    | 青年 | 否     | 否           | 一般     | 否   |\n",
    "| 2    | 青年 | 否     | 否           | 好       | 否   |\n",
    "| 3    | 青年 | 是     | 否           | 好       | 是   |\n",
    "| 4    | 青年 | 是     | 是           | 一般     | 是   |\n",
    "| 5    | 青年 | 否     | 否           | 一般     | 否   |\n",
    "| 6    | 中年 | 否     | 否           | 一般     | 否   |\n",
    "| 7    | 中年 | 否     | 否           | 好       | 否   |\n",
    "| 8    | 中年 | 是     | 是           | 好       | 是   |\n",
    "| 9    | 中年 | 否     | 是           | 非常好   | 是   |\n",
    "| 10   | 中年 | 否     | 是           | 非常好   | 是   |\n",
    "| 11   | 老年 | 否     | 是           | 非常好   | 是   |\n",
    "| 12   | 老年 | 否     | 是           | 好       | 是   |\n",
    "| 13   | 老年 | 是     | 否           | 好       | 是   |\n",
    "| 14   | 老年 | 是     | 否           | 非常好   | 是   |\n",
    "| 15   | 老年 | 否     | 否           | 一般     | 否   |\n",
    "\n",
    "(1) 请根据上表的训练数据，以错误率作为划分标准来构建预测是否进行放贷的决策树。  \n",
    "(2) 按照所构建的决策树，对属性值为（中年，无工作，无自己的房子，信贷情况好）的申请者是否进行放贷?   \n",
    "(3) 在构建决策树的时候，可能会出现过拟合的问题，有哪些方法可以避免或者解决？  \n",
    "(4) 对于含有连续型属性的样本数据，决策树有哪些处理方法？"
   ]
  },
  {
   "cell_type": "code",
   "execution_count": 3,
   "id": "816790ce",
   "metadata": {
    "ExecuteTime": {
     "end_time": "2021-10-04T12:44:52.658851Z",
     "start_time": "2021-10-04T12:44:52.600010Z"
    }
   },
   "outputs": [],
   "source": [
    "from sklearn.tree import DecisionTreeClassifier\n",
    "from sklearn.tree import export_graphviz\n",
    "\n",
    "data = pd.DataFrame({'年龄':['青年','青年','青年','青年','青年','中年','中年','中年','中年','中年','老年','老年','老年','老年','老年'],\n",
    "                     '有工作':['否','否','是','是','否','否','否','是','否','否','否','否','是','是','否'],\n",
    "                     '有自己的房子':['否','否','否','是','否','否','否','是','是','是','是','是','否','否','否'],\n",
    "                     '贷款情况':['一般','好','好','一般','一般','一般','好','好','非常好','非常好','非常好','好','好','非常好','一般'],\n",
    "                     '类别':['否','否','是','是','否','否','否','是','是','是','是','是','是','是','否']})\n",
    "X = data[['年龄', '有工作', '有自己的房子', '贷款情况']]  # 取出特征值\n",
    "Y = data['类别']  # 取Y值"
   ]
  },
  {
   "cell_type": "markdown",
   "id": "1b79a9bd",
   "metadata": {},
   "source": [
    "发现 DecisionTreeClassifier 的 fit 函数需要输入 array的数据，所以我们先将上述文字信息进行编码再调包："
   ]
  },
  {
   "cell_type": "code",
   "execution_count": 4,
   "id": "4ccd7cae",
   "metadata": {
    "ExecuteTime": {
     "end_time": "2021-10-04T12:44:52.673808Z",
     "start_time": "2021-10-04T12:44:52.659845Z"
    }
   },
   "outputs": [
    {
     "data": {
      "text/plain": [
       "DecisionTreeClassifier(max_depth=4)"
      ]
     },
     "execution_count": 4,
     "metadata": {},
     "output_type": "execute_result"
    }
   ],
   "source": [
    "def mapping(s):\n",
    "    mapping = {'青年':0, '中年':1, '老年':2,\n",
    "           '一般':0, '好':1, '非常好':2,\n",
    "           '否':0, '是':1}\n",
    "    return mapping[s]\n",
    "\n",
    "data_new = []\n",
    "for line in data.values:\n",
    "    for string in line:\n",
    "        data_new.append(mapping(string))\n",
    "\n",
    "data_new = np.array(data_new).reshape(15,5)\n",
    "X, Y = data_new[:,0:4], data_new[:,-1]\n",
    "tree_clf = DecisionTreeClassifier(max_depth=4)\n",
    "tree_clf.fit(X, Y)"
   ]
  },
  {
   "cell_type": "markdown",
   "id": "37020537",
   "metadata": {},
   "source": [
    "(2) 按照所构建的决策树，对属性值为（中年，无工作，无自己的房子，信贷情况好）的申请者是否进行放贷?"
   ]
  },
  {
   "cell_type": "code",
   "execution_count": 5,
   "id": "0145114e",
   "metadata": {
    "ExecuteTime": {
     "end_time": "2021-10-04T12:44:52.688769Z",
     "start_time": "2021-10-04T12:44:52.674806Z"
    }
   },
   "outputs": [
    {
     "data": {
      "text/plain": [
       "array([0])"
      ]
     },
     "execution_count": 5,
     "metadata": {},
     "output_type": "execute_result"
    }
   ],
   "source": [
    "x = np.array([mapping(string) for string in ['中年', '否', '否', '好']])\n",
    "tree_clf.predict(x.reshape(-1,4))"
   ]
  },
  {
   "cell_type": "markdown",
   "id": "d3610892",
   "metadata": {},
   "source": [
    "返回结果为“0”，即“否”，不应进行放贷  \n",
    "  \n",
    "(3) 在构建决策树的时候，可能会出现过拟合的问题，有哪些方法可以避免或者解决？  \n",
    "当决策树模型出现过拟合问题时，我们一般用剪枝的方法来解决。剪枝又分为预剪枝和后剪枝：  \n",
    "* 预剪枝：在生成决策树的过程中即进行剪枝，每个节点划分前，衡量当前节点的划分能否提高决策树的泛化能力；  \n",
    "* 后剪枝：在生成决策树之后再进行剪枝，自底向上考察每个非叶子节点，考虑将该节点替换成叶子节点后能否提高泛化性能；  \n",
    "  \n",
    "(4) 对于含有连续型属性的样本数据，决策树有哪些处理方法？  \n",
    "可以将连续数据离散化。具体有如下两类：  \n",
    "* 无监督离散化：等距离散化，等频离散化，聚类离散化\n",
    "* 有监督离散化：信息增益离散化，ChiMerge离散化等    "
   ]
  },
  {
   "cell_type": "markdown",
   "id": "a3c60426",
   "metadata": {},
   "source": [
    "## 4. 分类器性能评价\n",
    "请评价两个分类器 M1 和 M2 的性能。所选择的测试集包含 26 个二值属性，记作 A 到 Z。 表中是模型应用到测试集时得到的后验概率（图中只显示正类的后验概率）。因为这是二类问题，所以 $P(-)=1-P(+),P(-|A,…,Z)=1-P(+|A,…,Z)$。假设需要从正类中检测实例。  \n",
    "(1) 画出 M1 和 M2 的 ROC 曲线（画在一幅图中）。哪个模型更好？给出理由。  \n",
    "(2) 对模型 M1，假设截止阈值 $t=0.5$。换句话说，任何后验概率大于 t 的测试实例都被看作正例。计算模型在此阈值下的 precision， recall 和 F-score。  \n",
    "(3) 对模型 M2 使用相同的截止阈值重复（2）的分析。比较两个模型的 F-score，哪个模型更好？所得结果与从 ROC 曲线中得到的结论一致吗？  \n",
    "(4) 使用阈值 t=0.1 对模型 M2 重复（2）的分析。 t=0.5 和 t=0.1 哪一个阈值更好？该结果和你从 ROC 曲线中得到的一致吗？  \n",
    "\n",
    "| 实例 | 真实类 | P(+\\|A,…,Z,M1) | P(-\\|A,…,Z,M2) |\n",
    "| ---- | ------ | -------------- | -------------- |\n",
    "| 1    | +      | 0.73           | 0.61           |\n",
    "| 2    | +      | 0.69           | 0.03           |\n",
    "| 3    | -      | 0.44           | 0.68           |\n",
    "| 4    | -      | 0.55           | 0.31           |\n",
    "| 5    | +      | 0.67           | 0.45           |\n",
    "| 6    | +      | 0.47           | 0.09           |\n",
    "| 7    | -      | 0.08           | 0.38           |\n",
    "| 8    | -      | 0.15           | 0.05           |\n",
    "| 9    | +      | 0.45           | 0.01           |\n",
    "| 10   | -      | 0.35           | 0.04           |\n"
   ]
  },
  {
   "cell_type": "code",
   "execution_count": 6,
   "id": "09775bfd",
   "metadata": {
    "ExecuteTime": {
     "end_time": "2021-10-04T12:44:52.793492Z",
     "start_time": "2021-10-04T12:44:52.689764Z"
    }
   },
   "outputs": [
    {
     "data": {
      "image/png": "[encoded data removed]",
      "text/plain": [
       "<Figure size 432x288 with 1 Axes>"
      ]
     },
     "metadata": {
      "needs_background": "light"
     },
     "output_type": "display_data"
    }
   ],
   "source": [
    "from sklearn.metrics import roc_curve, auc\n",
    "\n",
    "y = [1, 1, 0, 0, 1, 1, 0, 0, 1, 0]\n",
    "score1 = [0.73, 0.69, 0.44, 0.55, 0.67, 0.47, 0.08, 0.15, 0.45, 0.35]\n",
    "score2 = [0.61, 0.03, 0.68, 0.31, 0.45, 0.09, 0.38, 0.05, 0.01, 0.04]\n",
    "\n",
    "fpr1, tpr1, threshold1 = roc_curve(y, score1)\n",
    "fpr2, tpr2, threshold2 = roc_curve(y, score2)\n",
    "roc_auc1 = auc(fpr1,tpr1)  # 计算auc的值\n",
    "roc_auc2 = auc(fpr2,tpr2)  # 计算auc的值\n",
    "\n",
    "plt.plot(fpr1, tpr1, 'b-', label='ROC curve (AUC = %0.2f)' % roc_auc1)\n",
    "plt.plot(fpr2, tpr2, 'r-', label='ROC curve (AUC = %0.2f)' % roc_auc2)\n",
    "plt.legend(loc=\"lower right\")\n",
    "plt.show()"
   ]
  },
  {
   "cell_type": "markdown",
   "id": "071791d5",
   "metadata": {},
   "source": [
    "(1) 从图上来看，显然是模型 M1 更好，因为它的 ROC 曲线将 M1 的 ROC 曲线完全包住了。  \n",
    "  \n",
    "(2) 如果将截止阈值定为 $t=0.5$，则预测结果为 $[1, 1, 0, 1, 1, 0, 0, 0, 0, 0]$  \n",
    "容易计算出 $$precision = \\frac34 = 0.75,\\  recall = \\frac35 = 0.6, \\ F1score = \\frac{2\\times0.75\\times0.6}{0.75+0.6}=0.6667$$  \n",
    "  \n",
    "(3) 用同样的截止阈值计算出模型 M2 的预测结果为 $[1, 0, 1, 0, 0, 0, 0, 0, 0, 0]$  \n",
    "容易计算出 $$precision = \\frac12 = 0.5,\\  recall = \\frac15 = 0.2, \\ F1score = \\frac{2\\times0.5\\times0.2}{0.5+0.2}=0.2857$$  \n",
    "明显是模型 M1 更好，与第一问得出的结论一致。  \n",
    "  \n",
    "(4) 令截止阈值定为 $t=0.1$，则模型 M2 的预测结果为 $[1, 0, 1, 1, 1, 0, 1, 0, 0, 0]$  \n",
    "容易计算出 $$precision = \\frac25 = 0.4,\\  recall = \\frac25 = 0.4, \\ F1score = \\frac{2\\times0.4\\times0.4}{0.4+0.4}=0.4$$  \n",
    "所以 $t=0.1$ 这个阈值更好"
   ]
  },
  {
   "cell_type": "markdown",
   "id": "fb00e31f",
   "metadata": {},
   "source": [
    "## 5. 绘制ROC曲线\n",
    "下图中数据元组已经按分类器返回概率值的递减顺序排序。对于每个元组，计算真正例（TP）、假正例（FP）、真负例（TN）和假负例（FN）的个数。计算真正例率（TPR）和假正例率（FPR）。为该数据绘制 ROC 曲线。\n",
    "\n",
    "| 元组号 | 类   | 概率 |\n",
    "| ------ | ---- | ---- |\n",
    "| 1      | P    | 0.95 |\n",
    "| 2      | N    | 0.85 |\n",
    "| 3      | P    | 0.78 |\n",
    "| 4      | P    | 0.66 |\n",
    "| 5      | N    | 0.60 |\n",
    "| 6      | P    | 0.55 |\n",
    "| 7      | N    | 0.53 |\n",
    "| 8      | N    | 0.52 |\n",
    "| 9      | N    | 0.51 |\n",
    "| 10     | P    | 0.40 |\n"
   ]
  },
  {
   "cell_type": "markdown",
   "id": "7c4c0b07",
   "metadata": {},
   "source": [
    "如果以0.5为分类阈值的话，那么得到混淆矩阵如下：\n",
    "\n",
    "|                | 分类为正例 | 分类为负例 |\n",
    "| :------------: | :--------: | :--------: |\n",
    "| **实际为正例** |     4(TP)      |     1(FN)      |\n",
    "| **实际为负例** |     5(FP)      |     0(TN)      |\n",
    "\n",
    "$TPR = TP/(TP+FN) = 0.8,\\ \\ FPR = FP/(FP+TN) = 1$"
   ]
  },
  {
   "cell_type": "code",
   "execution_count": 7,
   "id": "fcd199f2",
   "metadata": {
    "ExecuteTime": {
     "end_time": "2021-10-04T12:44:52.883252Z",
     "start_time": "2021-10-04T12:44:52.794485Z"
    }
   },
   "outputs": [
    {
     "data": {
      "image/png": "[encoded data removed]",
      "text/plain": [
       "<Figure size 432x288 with 1 Axes>"
      ]
     },
     "metadata": {
      "needs_background": "light"
     },
     "output_type": "display_data"
    }
   ],
   "source": [
    "from sklearn.metrics import roc_curve, auc\n",
    "\n",
    "y = [1, 0, 1, 1, 0, 1, 0, 0, 0, 1]\n",
    "score = [0.95, 0.85, 0.78, 0.66, 0.60, 0.55, 0.53, 0.52, 0.51, 0.40]\n",
    "\n",
    "fpr, tpr, threshold = roc_curve(y, score)\n",
    "roc_auc = auc(fpr,tpr)  # 计算auc的值\n",
    "\n",
    "plt.plot(fpr, tpr, 'b-', label='ROC curve (AUC = %0.2f)' % roc_auc)\n",
    "plt.legend(loc=\"lower right\")\n",
    "plt.show()"
   ]
  },
  {
   "cell_type": "markdown",
   "id": "c0ebd7b3",
   "metadata": {},
   "source": [
    "##  6. 模型差异显著性检验\n",
    "假设两个预测模型 M 和 N 之间进行选择。已经在每个模型上做了 10 轮 10-折交叉验证，其中在第 i 轮， M 和 N 都是用相同的数据划分。 M 得到的错误率为 30.5, 32.2,20.7, 20.6, 31.0, 41.0, 27.7, 28.0, 21.5, 28.0。 N 得到的错误率为 22.4, 14.5, 22.4,19.6, 20.7, 20.4, 22.1, 19.4, 18.2, 35.0。评述在 1%的显著水平上，一个模型是否显著地比另一个好。"
   ]
  },
  {
   "cell_type": "code",
   "execution_count": 8,
   "id": "6953506a",
   "metadata": {
    "ExecuteTime": {
     "end_time": "2021-10-04T12:44:52.898208Z",
     "start_time": "2021-10-04T12:44:52.884245Z"
    }
   },
   "outputs": [
    {
     "name": "stdout",
     "output_type": "stream",
     "text": [
      "6.649999999999999\n",
      "0.019580714527429998\n"
     ]
    }
   ],
   "source": [
    "import numpy as np\n",
    "from scipy.stats import ttest_ind\n",
    "\n",
    "err_m = [30.5, 32.2,20.7, 20.6, 31.0, 41.0, 27.7, 28.0, 21.5, 28.0]\n",
    "err_n = [22.4, 14.5, 22.4,19.6, 20.7, 20.4, 22.1, 19.4, 18.2, 35.0]\n",
    "print(np.mean(err_m)-np.mean(err_n))\n",
    "\n",
    "p = ttest_ind(err_m, err_n).pvalue\n",
    "print(p)"
   ]
  },
  {
   "cell_type": "markdown",
   "id": "4d769703",
   "metadata": {},
   "source": [
    "可以看到上述显著性检验中，$p=0.0196>0.01$，所以在 1% 的显著水平上，不能认为 M 模型显著地比 N 好。"
   ]
  }
 ],
 "metadata": {
  "kernelspec": {
   "display_name": "Python 3",
   "language": "python",
   "name": "python3"
  },
  "language_info": {
   "codemirror_mode": {
    "name": "ipython",
    "version": 3
   },
   "file_extension": ".py",
   "mimetype": "text/x-python",
   "name": "python",
   "nbconvert_exporter": "python",
   "pygments_lexer": "ipython3",
   "version": "3.8.8"
  },
  "toc": {
   "base_numbering": "",
   "nav_menu": {},
   "number_sections": false,
   "sideBar": true,
   "skip_h1_title": false,
   "title_cell": "Table of Contents",
   "title_sidebar": "Contents",
   "toc_cell": false,
   "toc_position": {
    "height": "calc(100% - 180px)",
    "left": "10px",
    "top": "150px",
    "width": "234.594px"
   },
   "toc_section_display": true,
   "toc_window_display": true
  },
  "varInspector": {
   "cols": {
    "lenName": 16,
    "lenType": 16,
    "lenVar": 40
   },
   "kernels_config": {
    "python": {
     "delete_cmd_postfix": "",
     "delete_cmd_prefix": "del ",
     "library": "var_list.py",
     "varRefreshCmd": "print(var_dic_list())"
    },
    "r": {
     "delete_cmd_postfix": ") ",
     "delete_cmd_prefix": "rm(",
     "library": "var_list.r",
     "varRefreshCmd": "cat(var_dic_list()) "
    }
   },
   "types_to_exclude": [
    "module",
    "function",
    "builtin_function_or_method",
    "instance",
    "_Feature"
   ],
   "window_display": false
  }
 },
 "nbformat": 4,
 "nbformat_minor": 5
}
